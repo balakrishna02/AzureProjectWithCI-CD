{
 "cells": [
  {
   "cell_type": "code",
   "execution_count": 0,
   "metadata": {
    "application/vnd.databricks.v1+cell": {
     "cellMetadata": {
      "byteLimit": 2048000,
      "rowLimit": 10000
     },
     "inputWidgets": {},
     "nuid": "3658fb53-45f0-437f-a80f-6f24b11523e4",
     "showTitle": false,
     "tableResultSettingsMap": {},
     "title": ""
    }
   },
   "outputs": [],
   "source": [
    "dbutils.widgets.text(\"source_container\",\"\")\n",
    "dbutils.widgets.text(\"sink_container\",\"\")\n",
    "dbutils.widgets.text(\"folder\",\"\")"
   ]
  },
  {
   "cell_type": "markdown",
   "metadata": {
    "application/vnd.databricks.v1+cell": {
     "cellMetadata": {
      "byteLimit": 2048000,
      "rowLimit": 10000
     },
     "inputWidgets": {},
     "nuid": "abf75bdc-38d1-48c1-9010-752877b3a961",
     "showTitle": false,
     "tableResultSettingsMap": {},
     "title": ""
    }
   },
   "source": [
    "###Fetching Parameters"
   ]
  },
  {
   "cell_type": "code",
   "execution_count": 0,
   "metadata": {
    "application/vnd.databricks.v1+cell": {
     "cellMetadata": {
      "byteLimit": 2048000,
      "rowLimit": 10000
     },
     "inputWidgets": {},
     "nuid": "ef709ee6-5d94-4d6a-952f-b047c06e2971",
     "showTitle": false,
     "tableResultSettingsMap": {},
     "title": ""
    }
   },
   "outputs": [],
   "source": [
    "source_container = dbutils.widgets.get(\"source_container\")\n",
    "sink_container = dbutils.widgets.get(\"sink_container\")\n",
    "folder = dbutils.widgets.get(\"folder\")"
   ]
  },
  {
   "cell_type": "markdown",
   "metadata": {
    "application/vnd.databricks.v1+cell": {
     "cellMetadata": {
      "byteLimit": 2048000,
      "rowLimit": 10000
     },
     "inputWidgets": {},
     "nuid": "3c32a494-fc83-473a-9008-decaba54a662",
     "showTitle": false,
     "tableResultSettingsMap": {},
     "title": ""
    }
   },
   "source": [
    "###Parameterizing Code"
   ]
  },
  {
   "cell_type": "code",
   "execution_count": 0,
   "metadata": {
    "application/vnd.databricks.v1+cell": {
     "cellMetadata": {
      "byteLimit": 2048000,
      "rowLimit": 10000
     },
     "inputWidgets": {},
     "nuid": "b3456330-064d-45b5-a842-f5b59a57909b",
     "showTitle": false,
     "tableResultSettingsMap": {},
     "title": ""
    }
   },
   "outputs": [],
   "source": [
    "df = spark.read.format('parquet')\\\n",
    "               .load(f'abfss://{source_container}@olympicprojdlchintu.dfs.core.windows.net/{folder}')"
   ]
  },
  {
   "cell_type": "code",
   "execution_count": 0,
   "metadata": {
    "application/vnd.databricks.v1+cell": {
     "cellMetadata": {
      "byteLimit": 2048000,
      "rowLimit": 10000
     },
     "inputWidgets": {},
     "nuid": "c647ddd2-c6cb-42d3-a2c7-277d0d5c5d96",
     "showTitle": false,
     "tableResultSettingsMap": {},
     "title": ""
    }
   },
   "outputs": [
    {
     "output_type": "display_data",
     "data": {
      "text/html": [
       "<style scoped>\n",
       "  .table-result-container {\n",
       "    max-height: 300px;\n",
       "    overflow: auto;\n",
       "  }\n",
       "  table, th, td {\n",
       "    border: 1px solid black;\n",
       "    border-collapse: collapse;\n",
       "  }\n",
       "  th, td {\n",
       "    padding: 5px;\n",
       "  }\n",
       "  th {\n",
       "    text-align: left;\n",
       "  }\n",
       "</style><div class='table-result-container'><table class='table-result'><thead style='background-color: white'><tr><th>code</th><th>current</th><th>name</th><th>gender</th><th>function</th><th>category</th><th>country_code</th><th>country</th><th>country_long</th><th>disciplines</th><th>events</th><th>birth_date</th></tr></thead><tbody><tr><td>1533246</td><td>True</td><td>PEDRERO Ofelia</td><td>Female</td><td>Coach</td><td>C</td><td>MEX</td><td>Mexico</td><td>Mexico</td><td>Artistic Swimming</td><td>Team</td><td>1988-03-28</td></tr><tr><td>1535775</td><td>True</td><td>RADHI SHENAISHIL</td><td>Male</td><td>Head Coach</td><td>C</td><td>IRQ</td><td>Iraq</td><td>Iraq</td><td>Football</td><td>Men</td><td>1965-07-01</td></tr><tr><td>1536055</td><td>True</td><td>AFLAKIKHAMSEH Majid</td><td>Male</td><td>Coach</td><td>C</td><td>IRI</td><td>IR Iran</td><td>Islamic Republic of Iran</td><td>Taekwondo</td><td>null</td><td>1973-08-26</td></tr><tr><td>1536059</td><td>True</td><td>YOUSEFY Mehrdad</td><td>Male</td><td>Coach</td><td>C</td><td>IRI</td><td>IR Iran</td><td>Islamic Republic of Iran</td><td>Taekwondo</td><td>null</td><td>1972-06-12</td></tr><tr><td>1536060</td><td>True</td><td>MADDAH Minoo</td><td>Female</td><td>Coach</td><td>C</td><td>IRI</td><td>IR Iran</td><td>Islamic Republic of Iran</td><td>Taekwondo</td><td>null</td><td>1976-05-17</td></tr><tr><td>1536328</td><td>True</td><td>LOFTUS Adriana</td><td>Female</td><td>Coach</td><td>C</td><td>MEX</td><td>Mexico</td><td>Mexico</td><td>Artistic Swimming</td><td>Team</td><td>1958-06-28</td></tr><tr><td>1538313</td><td>True</td><td>FERRARA Fernando</td><td>Male</td><td>Head Coach</td><td>C</td><td>ARG</td><td>Argentina</td><td>Argentina</td><td>Hockey</td><td>null</td><td>1968-07-24</td></tr><tr><td>1538315</td><td>True</td><td>GULLA Alejandra</td><td>Female</td><td>Assistant Coach</td><td>C</td><td>ARG</td><td>Argentina</td><td>Argentina</td><td>Hockey</td><td>Women</td><td>1977-07-04</td></tr><tr><td>1538317</td><td>True</td><td>CAPURRO Santiago</td><td>Male</td><td>Assistant Coach</td><td>C</td><td>ARG</td><td>Argentina</td><td>Argentina</td><td>Hockey</td><td>null</td><td>1975-04-08</td></tr><tr><td>1538745</td><td>True</td><td>RONCONI Mariano</td><td>Male</td><td>Head Coach</td><td>C</td><td>ARG</td><td>Argentina</td><td>Argentina</td><td>Hockey</td><td>null</td><td>null</td></tr><tr><td>1538748</td><td>True</td><td>PAULON Ezequiel</td><td>Male</td><td>Assistant Coach</td><td>C</td><td>ARG</td><td>Argentina</td><td>Argentina</td><td>Hockey</td><td>null</td><td>null</td></tr><tr><td>1538751</td><td>True</td><td>VILA Matias</td><td>Male</td><td>Assistant Coach</td><td>C</td><td>ARG</td><td>Argentina</td><td>Argentina</td><td>Hockey</td><td>null</td><td>null</td></tr><tr><td>1539598</td><td>True</td><td>KHEIRKHAH HAJIRASOULIAN Mohammadre.</td><td>Male</td><td>Coach</td><td>C</td><td>IRI</td><td>IR Iran</td><td>Islamic Republic of Iran</td><td>Artistic Gymnastics</td><td>null</td><td>1965-06-27</td></tr><tr><td>1540258</td><td>True</td><td>DAVIS DIAZ David</td><td>Male</td><td>Coach</td><td>C</td><td>MEX</td><td>Mexico</td><td>Mexico</td><td>Taekwondo</td><td>null</td><td>1977-10-07</td></tr><tr><td>1540259</td><td>True</td><td>MENDOZA MORA Abel</td><td>Male</td><td>Coach</td><td>C</td><td>MEX</td><td>Mexico</td><td>Mexico</td><td>Taekwondo</td><td>null</td><td>1988-02-26</td></tr></tbody></table></div>"
      ]
     },
     "metadata": {
      "application/vnd.databricks.v1+output": {
       "addedWidgets": {},
       "aggData": [],
       "aggError": "",
       "aggOverflow": false,
       "aggSchema": [],
       "aggSeriesLimitReached": false,
       "aggType": "",
       "arguments": {},
       "columnCustomDisplayInfos": {},
       "data": [
        [
         "1533246",
         "True",
         "PEDRERO Ofelia",
         "Female",
         "Coach",
         "C",
         "MEX",
         "Mexico",
         "Mexico",
         "Artistic Swimming",
         "Team",
         "1988-03-28"
        ],
        [
         "1535775",
         "True",
         "RADHI SHENAISHIL",
         "Male",
         "Head Coach",
         "C",
         "IRQ",
         "Iraq",
         "Iraq",
         "Football",
         "Men",
         "1965-07-01"
        ],
        [
         "1536055",
         "True",
         "AFLAKIKHAMSEH Majid",
         "Male",
         "Coach",
         "C",
         "IRI",
         "IR Iran",
         "Islamic Republic of Iran",
         "Taekwondo",
         null,
         "1973-08-26"
        ],
        [
         "1536059",
         "True",
         "YOUSEFY Mehrdad",
         "Male",
         "Coach",
         "C",
         "IRI",
         "IR Iran",
         "Islamic Republic of Iran",
         "Taekwondo",
         null,
         "1972-06-12"
        ],
        [
         "1536060",
         "True",
         "MADDAH Minoo",
         "Female",
         "Coach",
         "C",
         "IRI",
         "IR Iran",
         "Islamic Republic of Iran",
         "Taekwondo",
         null,
         "1976-05-17"
        ],
        [
         "1536328",
         "True",
         "LOFTUS Adriana",
         "Female",
         "Coach",
         "C",
         "MEX",
         "Mexico",
         "Mexico",
         "Artistic Swimming",
         "Team",
         "1958-06-28"
        ],
        [
         "1538313",
         "True",
         "FERRARA Fernando",
         "Male",
         "Head Coach",
         "C",
         "ARG",
         "Argentina",
         "Argentina",
         "Hockey",
         null,
         "1968-07-24"
        ],
        [
         "1538315",
         "True",
         "GULLA Alejandra",
         "Female",
         "Assistant Coach",
         "C",
         "ARG",
         "Argentina",
         "Argentina",
         "Hockey",
         "Women",
         "1977-07-04"
        ],
        [
         "1538317",
         "True",
         "CAPURRO Santiago",
         "Male",
         "Assistant Coach",
         "C",
         "ARG",
         "Argentina",
         "Argentina",
         "Hockey",
         null,
         "1975-04-08"
        ],
        [
         "1538745",
         "True",
         "RONCONI Mariano",
         "Male",
         "Head Coach",
         "C",
         "ARG",
         "Argentina",
         "Argentina",
         "Hockey",
         null,
         null
        ],
        [
         "1538748",
         "True",
         "PAULON Ezequiel",
         "Male",
         "Assistant Coach",
         "C",
         "ARG",
         "Argentina",
         "Argentina",
         "Hockey",
         null,
         null
        ],
        [
         "1538751",
         "True",
         "VILA Matias",
         "Male",
         "Assistant Coach",
         "C",
         "ARG",
         "Argentina",
         "Argentina",
         "Hockey",
         null,
         null
        ],
        [
         "1539598",
         "True",
         "KHEIRKHAH HAJIRASOULIAN Mohammadre.",
         "Male",
         "Coach",
         "C",
         "IRI",
         "IR Iran",
         "Islamic Republic of Iran",
         "Artistic Gymnastics",
         null,
         "1965-06-27"
        ],
        [
         "1540258",
         "True",
         "DAVIS DIAZ David",
         "Male",
         "Coach",
         "C",
         "MEX",
         "Mexico",
         "Mexico",
         "Taekwondo",
         null,
         "1977-10-07"
        ],
        [
         "1540259",
         "True",
         "MENDOZA MORA Abel",
         "Male",
         "Coach",
         "C",
         "MEX",
         "Mexico",
         "Mexico",
         "Taekwondo",
         null,
         "1988-02-26"
        ]
       ],
       "datasetInfos": [],
       "dbfsResultPath": null,
       "isJsonSchema": true,
       "metadata": {},
       "overflow": false,
       "plotOptions": {
        "customPlotOptions": {},
        "displayType": "table",
        "pivotAggregation": null,
        "pivotColumns": null,
        "xColumns": null,
        "yColumns": null
       },
       "removedWidgets": [],
       "schema": [
        {
         "metadata": "{}",
         "name": "code",
         "type": "\"string\""
        },
        {
         "metadata": "{}",
         "name": "current",
         "type": "\"string\""
        },
        {
         "metadata": "{}",
         "name": "name",
         "type": "\"string\""
        },
        {
         "metadata": "{}",
         "name": "gender",
         "type": "\"string\""
        },
        {
         "metadata": "{}",
         "name": "function",
         "type": "\"string\""
        },
        {
         "metadata": "{}",
         "name": "category",
         "type": "\"string\""
        },
        {
         "metadata": "{}",
         "name": "country_code",
         "type": "\"string\""
        },
        {
         "metadata": "{}",
         "name": "country",
         "type": "\"string\""
        },
        {
         "metadata": "{}",
         "name": "country_long",
         "type": "\"string\""
        },
        {
         "metadata": "{}",
         "name": "disciplines",
         "type": "\"string\""
        },
        {
         "metadata": "{}",
         "name": "events",
         "type": "\"string\""
        },
        {
         "metadata": "{}",
         "name": "birth_date",
         "type": "\"string\""
        }
       ],
       "type": "table"
      }
     },
     "output_type": "display_data"
    }
   ],
   "source": [
    "display(df.limit(15))"
   ]
  },
  {
   "cell_type": "code",
   "execution_count": 0,
   "metadata": {
    "application/vnd.databricks.v1+cell": {
     "cellMetadata": {
      "byteLimit": 2048000,
      "rowLimit": 10000
     },
     "inputWidgets": {},
     "nuid": "248d6793-b033-4180-bbe9-123612547983",
     "showTitle": false,
     "tableResultSettingsMap": {},
     "title": ""
    }
   },
   "outputs": [],
   "source": [
    "df.write.format('delta')\\\n",
    "    .mode('append')\\\n",
    "    .option('path', f'abfss://{sink_container}@olympicprojdlchintu.dfs.core.windows.net/{folder}')\\\n",
    "    .saveAsTable(f'olympic.{sink_container}.{folder}')"
   ]
  },
  {
   "cell_type": "code",
   "execution_count": 0,
   "metadata": {
    "application/vnd.databricks.v1+cell": {
     "cellMetadata": {},
     "inputWidgets": {},
     "nuid": "af5bc8a5-b77a-4162-b94a-3433b5d30825",
     "showTitle": false,
     "tableResultSettingsMap": {},
     "title": ""
    }
   },
   "outputs": [],
   "source": []
  }
 ],
 "metadata": {
  "application/vnd.databricks.v1+notebook": {
   "computePreferences": null,
   "dashboards": [],
   "environmentMetadata": {
    "base_environment": "",
    "environment_version": "2"
   },
   "inputWidgetPreferences": null,
   "language": "python",
   "notebookMetadata": {
    "mostRecentlyExecutedCommandWithImplicitDF": {
     "commandId": 8647835789122886,
     "dataframes": [
      "_sqldf"
     ]
    },
    "pythonIndentUnit": 4
   },
   "notebookName": "Silver_Entities_Coaches&Events",
   "widgets": {
    "folder": {
     "currentValue": "",
     "nuid": "c21a6cb4-f6eb-44d9-a72a-2f8e90e801a3",
     "typedWidgetInfo": {
      "autoCreated": false,
      "defaultValue": "",
      "label": null,
      "name": "folder",
      "options": {
       "widgetDisplayType": "Text",
       "validationRegex": null
      },
      "parameterDataType": "String"
     },
     "widgetInfo": {
      "widgetType": "text",
      "defaultValue": "",
      "label": null,
      "name": "folder",
      "options": {
       "widgetType": "text",
       "autoCreated": null,
       "validationRegex": null
      }
     }
    },
    "sink_container": {
     "currentValue": "",
     "nuid": "a3dfc1ae-3d8d-40a9-905b-223490e04f11",
     "typedWidgetInfo": {
      "autoCreated": false,
      "defaultValue": "",
      "label": null,
      "name": "sink_container",
      "options": {
       "widgetDisplayType": "Text",
       "validationRegex": null
      },
      "parameterDataType": "String"
     },
     "widgetInfo": {
      "widgetType": "text",
      "defaultValue": "",
      "label": null,
      "name": "sink_container",
      "options": {
       "widgetType": "text",
       "autoCreated": null,
       "validationRegex": null
      }
     }
    },
    "source_container": {
     "currentValue": "",
     "nuid": "e3575d59-5f77-4b6e-a33a-4d7a54a9bd46",
     "typedWidgetInfo": {
      "autoCreated": false,
      "defaultValue": "",
      "label": null,
      "name": "source_container",
      "options": {
       "widgetDisplayType": "Text",
       "validationRegex": null
      },
      "parameterDataType": "String"
     },
     "widgetInfo": {
      "widgetType": "text",
      "defaultValue": "",
      "label": null,
      "name": "source_container",
      "options": {
       "widgetType": "text",
       "autoCreated": null,
       "validationRegex": null
      }
     }
    }
   }
  },
  "language_info": {
   "name": "python"
  }
 },
 "nbformat": 4,
 "nbformat_minor": 0
}
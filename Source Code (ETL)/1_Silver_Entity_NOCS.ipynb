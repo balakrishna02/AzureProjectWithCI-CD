{
 "cells": [
  {
   "cell_type": "markdown",
   "metadata": {
    "application/vnd.databricks.v1+cell": {
     "cellMetadata": {},
     "inputWidgets": {},
     "nuid": "52b1237c-ef21-4bbe-8156-4574404c91b1",
     "showTitle": false,
     "tableResultSettingsMap": {},
     "title": ""
    }
   },
   "source": [
    "#Silver Notebook\n"
   ]
  },
  {
   "cell_type": "markdown",
   "metadata": {
    "application/vnd.databricks.v1+cell": {
     "cellMetadata": {},
     "inputWidgets": {},
     "nuid": "dc08afc8-ff39-4347-a79f-9a6836583aa7",
     "showTitle": false,
     "tableResultSettingsMap": {},
     "title": ""
    }
   },
   "source": [
    "##Read NOCS Data"
   ]
  },
  {
   "cell_type": "code",
   "execution_count": 0,
   "metadata": {
    "application/vnd.databricks.v1+cell": {
     "cellMetadata": {
      "byteLimit": 2048000,
      "rowLimit": 10000
     },
     "inputWidgets": {},
     "nuid": "3fac270c-7cbf-4c91-b29a-a6a333ed101a",
     "showTitle": false,
     "tableResultSettingsMap": {},
     "title": ""
    }
   },
   "outputs": [
    {
     "output_type": "display_data",
     "data": {
      "text/html": [
       "<style scoped>\n",
       "  .table-result-container {\n",
       "    max-height: 300px;\n",
       "    overflow: auto;\n",
       "  }\n",
       "  table, th, td {\n",
       "    border: 1px solid black;\n",
       "    border-collapse: collapse;\n",
       "  }\n",
       "  th, td {\n",
       "    padding: 5px;\n",
       "  }\n",
       "  th {\n",
       "    text-align: left;\n",
       "  }\n",
       "</style><div class='table-result-container'><table class='table-result'><thead style='background-color: white'><tr><th>code</th><th>country</th><th>country_long</th><th>tag</th><th>note</th></tr></thead><tbody><tr><td>AFG</td><td>Afghanistan</td><td>Afghanistan</td><td>afghanistan</td><td>P</td></tr><tr><td>AHO</td><td>Netherlands Antilles</td><td>Netherlands Antilles</td><td>netherlands-antilles</td><td>H</td></tr><tr><td>AIN</td><td>AIN</td><td>AIN</td><td>ain</td><td>P</td></tr><tr><td>ALB</td><td>Albania</td><td>Albania</td><td>albania</td><td>P</td></tr><tr><td>ALG</td><td>Algeria</td><td>Algeria</td><td>algeria</td><td>P</td></tr><tr><td>AND</td><td>Andorra</td><td>Andorra</td><td>andorra</td><td>P</td></tr><tr><td>ANG</td><td>Angola</td><td>Angola</td><td>angola</td><td>P</td></tr><tr><td>ANT</td><td>Antigua and Barbuda</td><td>Antigua and Barbuda</td><td>antigua-and-barbuda</td><td>P</td></tr><tr><td>ARG</td><td>Argentina</td><td>Argentina</td><td>argentina</td><td>P</td></tr><tr><td>ARM</td><td>Armenia</td><td>Armenia</td><td>armenia</td><td>P</td></tr><tr><td>ARU</td><td>Aruba</td><td>Aruba</td><td>aruba</td><td>P</td></tr><tr><td>ASA</td><td>American Samoa</td><td>American Samoa</td><td>american-samoa</td><td>P</td></tr><tr><td>AUS</td><td>Australia</td><td>Australia</td><td>australia</td><td>P</td></tr><tr><td>AUT</td><td>Austria</td><td>Austria</td><td>austria</td><td>P</td></tr><tr><td>AZE</td><td>Azerbaijan</td><td>Azerbaijan</td><td>azerbaijan</td><td>P</td></tr></tbody></table></div>"
      ]
     },
     "metadata": {
      "application/vnd.databricks.v1+output": {
       "addedWidgets": {},
       "aggData": [],
       "aggError": "",
       "aggOverflow": false,
       "aggSchema": [],
       "aggSeriesLimitReached": false,
       "aggType": "",
       "arguments": {},
       "columnCustomDisplayInfos": {},
       "data": [
        [
         "AFG",
         "Afghanistan",
         "Afghanistan",
         "afghanistan",
         "P"
        ],
        [
         "AHO",
         "Netherlands Antilles",
         "Netherlands Antilles",
         "netherlands-antilles",
         "H"
        ],
        [
         "AIN",
         "AIN",
         "AIN",
         "ain",
         "P"
        ],
        [
         "ALB",
         "Albania",
         "Albania",
         "albania",
         "P"
        ],
        [
         "ALG",
         "Algeria",
         "Algeria",
         "algeria",
         "P"
        ],
        [
         "AND",
         "Andorra",
         "Andorra",
         "andorra",
         "P"
        ],
        [
         "ANG",
         "Angola",
         "Angola",
         "angola",
         "P"
        ],
        [
         "ANT",
         "Antigua and Barbuda",
         "Antigua and Barbuda",
         "antigua-and-barbuda",
         "P"
        ],
        [
         "ARG",
         "Argentina",
         "Argentina",
         "argentina",
         "P"
        ],
        [
         "ARM",
         "Armenia",
         "Armenia",
         "armenia",
         "P"
        ],
        [
         "ARU",
         "Aruba",
         "Aruba",
         "aruba",
         "P"
        ],
        [
         "ASA",
         "American Samoa",
         "American Samoa",
         "american-samoa",
         "P"
        ],
        [
         "AUS",
         "Australia",
         "Australia",
         "australia",
         "P"
        ],
        [
         "AUT",
         "Austria",
         "Austria",
         "austria",
         "P"
        ],
        [
         "AZE",
         "Azerbaijan",
         "Azerbaijan",
         "azerbaijan",
         "P"
        ]
       ],
       "datasetInfos": [],
       "dbfsResultPath": null,
       "isJsonSchema": true,
       "metadata": {},
       "overflow": false,
       "plotOptions": {
        "customPlotOptions": {},
        "displayType": "table",
        "pivotAggregation": null,
        "pivotColumns": null,
        "xColumns": null,
        "yColumns": null
       },
       "removedWidgets": [],
       "schema": [
        {
         "metadata": "{}",
         "name": "code",
         "type": "\"string\""
        },
        {
         "metadata": "{}",
         "name": "country",
         "type": "\"string\""
        },
        {
         "metadata": "{}",
         "name": "country_long",
         "type": "\"string\""
        },
        {
         "metadata": "{}",
         "name": "tag",
         "type": "\"string\""
        },
        {
         "metadata": "{}",
         "name": "note",
         "type": "\"string\""
        }
       ],
       "type": "table"
      }
     },
     "output_type": "display_data"
    }
   ],
   "source": [
    "df = spark.read.format('parquet')\\\n",
    "                .option('head',True)\\\n",
    "                .option('inferschema', True)\\\n",
    "                .load('abfss://bronze@olympicprojdlchintu.dfs.core.windows.net/nocs')\n",
    "\n",
    "display(df.limit(15))"
   ]
  },
  {
   "cell_type": "markdown",
   "metadata": {
    "application/vnd.databricks.v1+cell": {
     "cellMetadata": {},
     "inputWidgets": {},
     "nuid": "3b3d6d92-d293-47e6-9422-623a05dfc1fe",
     "showTitle": false,
     "tableResultSettingsMap": {},
     "title": ""
    }
   },
   "source": [
    "dropping column"
   ]
  },
  {
   "cell_type": "code",
   "execution_count": 0,
   "metadata": {
    "application/vnd.databricks.v1+cell": {
     "cellMetadata": {
      "byteLimit": 2048000,
      "rowLimit": 10000
     },
     "inputWidgets": {},
     "nuid": "e40dab34-b117-472f-8b20-58a9cb9458b2",
     "showTitle": false,
     "tableResultSettingsMap": {},
     "title": ""
    }
   },
   "outputs": [
    {
     "output_type": "display_data",
     "data": {
      "text/html": [
       "<style scoped>\n",
       "  .table-result-container {\n",
       "    max-height: 300px;\n",
       "    overflow: auto;\n",
       "  }\n",
       "  table, th, td {\n",
       "    border: 1px solid black;\n",
       "    border-collapse: collapse;\n",
       "  }\n",
       "  th, td {\n",
       "    padding: 5px;\n",
       "  }\n",
       "  th {\n",
       "    text-align: left;\n",
       "  }\n",
       "</style><div class='table-result-container'><table class='table-result'><thead style='background-color: white'><tr><th>code</th><th>country_long</th><th>tag</th><th>note</th></tr></thead><tbody><tr><td>AFG</td><td>Afghanistan</td><td>afghanistan</td><td>P</td></tr><tr><td>AHO</td><td>Netherlands Antilles</td><td>netherlands-antilles</td><td>H</td></tr><tr><td>AIN</td><td>AIN</td><td>ain</td><td>P</td></tr><tr><td>ALB</td><td>Albania</td><td>albania</td><td>P</td></tr><tr><td>ALG</td><td>Algeria</td><td>algeria</td><td>P</td></tr><tr><td>AND</td><td>Andorra</td><td>andorra</td><td>P</td></tr><tr><td>ANG</td><td>Angola</td><td>angola</td><td>P</td></tr><tr><td>ANT</td><td>Antigua and Barbuda</td><td>antigua-and-barbuda</td><td>P</td></tr><tr><td>ARG</td><td>Argentina</td><td>argentina</td><td>P</td></tr><tr><td>ARM</td><td>Armenia</td><td>armenia</td><td>P</td></tr><tr><td>ARU</td><td>Aruba</td><td>aruba</td><td>P</td></tr><tr><td>ASA</td><td>American Samoa</td><td>american-samoa</td><td>P</td></tr><tr><td>AUS</td><td>Australia</td><td>australia</td><td>P</td></tr><tr><td>AUT</td><td>Austria</td><td>austria</td><td>P</td></tr><tr><td>AZE</td><td>Azerbaijan</td><td>azerbaijan</td><td>P</td></tr></tbody></table></div>"
      ]
     },
     "metadata": {
      "application/vnd.databricks.v1+output": {
       "addedWidgets": {},
       "aggData": [],
       "aggError": "",
       "aggOverflow": false,
       "aggSchema": [],
       "aggSeriesLimitReached": false,
       "aggType": "",
       "arguments": {},
       "columnCustomDisplayInfos": {},
       "data": [
        [
         "AFG",
         "Afghanistan",
         "afghanistan",
         "P"
        ],
        [
         "AHO",
         "Netherlands Antilles",
         "netherlands-antilles",
         "H"
        ],
        [
         "AIN",
         "AIN",
         "ain",
         "P"
        ],
        [
         "ALB",
         "Albania",
         "albania",
         "P"
        ],
        [
         "ALG",
         "Algeria",
         "algeria",
         "P"
        ],
        [
         "AND",
         "Andorra",
         "andorra",
         "P"
        ],
        [
         "ANG",
         "Angola",
         "angola",
         "P"
        ],
        [
         "ANT",
         "Antigua and Barbuda",
         "antigua-and-barbuda",
         "P"
        ],
        [
         "ARG",
         "Argentina",
         "argentina",
         "P"
        ],
        [
         "ARM",
         "Armenia",
         "armenia",
         "P"
        ],
        [
         "ARU",
         "Aruba",
         "aruba",
         "P"
        ],
        [
         "ASA",
         "American Samoa",
         "american-samoa",
         "P"
        ],
        [
         "AUS",
         "Australia",
         "australia",
         "P"
        ],
        [
         "AUT",
         "Austria",
         "austria",
         "P"
        ],
        [
         "AZE",
         "Azerbaijan",
         "azerbaijan",
         "P"
        ]
       ],
       "datasetInfos": [],
       "dbfsResultPath": null,
       "isJsonSchema": true,
       "metadata": {},
       "overflow": false,
       "plotOptions": {
        "customPlotOptions": {},
        "displayType": "table",
        "pivotAggregation": null,
        "pivotColumns": null,
        "xColumns": null,
        "yColumns": null
       },
       "removedWidgets": [],
       "schema": [
        {
         "metadata": "{}",
         "name": "code",
         "type": "\"string\""
        },
        {
         "metadata": "{}",
         "name": "country_long",
         "type": "\"string\""
        },
        {
         "metadata": "{}",
         "name": "tag",
         "type": "\"string\""
        },
        {
         "metadata": "{}",
         "name": "note",
         "type": "\"string\""
        }
       ],
       "type": "table"
      }
     },
     "output_type": "display_data"
    }
   ],
   "source": [
    "df = df.drop('country')\n",
    "\n",
    "display(df.limit(15))"
   ]
  },
  {
   "cell_type": "code",
   "execution_count": 0,
   "metadata": {
    "application/vnd.databricks.v1+cell": {
     "cellMetadata": {
      "byteLimit": 2048000,
      "rowLimit": 10000
     },
     "inputWidgets": {},
     "nuid": "bf3f1c55-61f1-4e00-a908-e8516ccac7f3",
     "showTitle": false,
     "tableResultSettingsMap": {},
     "title": ""
    }
   },
   "outputs": [],
   "source": [
    "from pyspark.sql.functions import *\n",
    "from pyspark.sql.types import *"
   ]
  },
  {
   "cell_type": "markdown",
   "metadata": {
    "application/vnd.databricks.v1+cell": {
     "cellMetadata": {},
     "inputWidgets": {},
     "nuid": "f57437d1-c1bc-44a5-b967-f684e6ca746a",
     "showTitle": false,
     "tableResultSettingsMap": {},
     "title": ""
    }
   },
   "source": [
    "Having Only First Word of Tag By Using Split"
   ]
  },
  {
   "cell_type": "code",
   "execution_count": 0,
   "metadata": {
    "application/vnd.databricks.v1+cell": {
     "cellMetadata": {
      "byteLimit": 2048000,
      "rowLimit": 10000
     },
     "inputWidgets": {},
     "nuid": "c25fa95b-81c2-4726-ae0d-9241733d01e8",
     "showTitle": false,
     "tableResultSettingsMap": {},
     "title": ""
    }
   },
   "outputs": [
    {
     "output_type": "display_data",
     "data": {
      "text/html": [
       "<style scoped>\n",
       "  .table-result-container {\n",
       "    max-height: 300px;\n",
       "    overflow: auto;\n",
       "  }\n",
       "  table, th, td {\n",
       "    border: 1px solid black;\n",
       "    border-collapse: collapse;\n",
       "  }\n",
       "  th, td {\n",
       "    padding: 5px;\n",
       "  }\n",
       "  th {\n",
       "    text-align: left;\n",
       "  }\n",
       "</style><div class='table-result-container'><table class='table-result'><thead style='background-color: white'><tr><th>code</th><th>country_long</th><th>tag</th><th>note</th></tr></thead><tbody><tr><td>AFG</td><td>Afghanistan</td><td>afghanistan</td><td>P</td></tr><tr><td>AHO</td><td>Netherlands Antilles</td><td>netherlands</td><td>H</td></tr><tr><td>AIN</td><td>AIN</td><td>ain</td><td>P</td></tr><tr><td>ALB</td><td>Albania</td><td>albania</td><td>P</td></tr><tr><td>ALG</td><td>Algeria</td><td>algeria</td><td>P</td></tr><tr><td>AND</td><td>Andorra</td><td>andorra</td><td>P</td></tr><tr><td>ANG</td><td>Angola</td><td>angola</td><td>P</td></tr><tr><td>ANT</td><td>Antigua and Barbuda</td><td>antigua</td><td>P</td></tr><tr><td>ARG</td><td>Argentina</td><td>argentina</td><td>P</td></tr><tr><td>ARM</td><td>Armenia</td><td>armenia</td><td>P</td></tr><tr><td>ARU</td><td>Aruba</td><td>aruba</td><td>P</td></tr><tr><td>ASA</td><td>American Samoa</td><td>american</td><td>P</td></tr><tr><td>AUS</td><td>Australia</td><td>australia</td><td>P</td></tr><tr><td>AUT</td><td>Austria</td><td>austria</td><td>P</td></tr><tr><td>AZE</td><td>Azerbaijan</td><td>azerbaijan</td><td>P</td></tr></tbody></table></div>"
      ]
     },
     "metadata": {
      "application/vnd.databricks.v1+output": {
       "addedWidgets": {},
       "aggData": [],
       "aggError": "",
       "aggOverflow": false,
       "aggSchema": [],
       "aggSeriesLimitReached": false,
       "aggType": "",
       "arguments": {},
       "columnCustomDisplayInfos": {},
       "data": [
        [
         "AFG",
         "Afghanistan",
         "afghanistan",
         "P"
        ],
        [
         "AHO",
         "Netherlands Antilles",
         "netherlands",
         "H"
        ],
        [
         "AIN",
         "AIN",
         "ain",
         "P"
        ],
        [
         "ALB",
         "Albania",
         "albania",
         "P"
        ],
        [
         "ALG",
         "Algeria",
         "algeria",
         "P"
        ],
        [
         "AND",
         "Andorra",
         "andorra",
         "P"
        ],
        [
         "ANG",
         "Angola",
         "angola",
         "P"
        ],
        [
         "ANT",
         "Antigua and Barbuda",
         "antigua",
         "P"
        ],
        [
         "ARG",
         "Argentina",
         "argentina",
         "P"
        ],
        [
         "ARM",
         "Armenia",
         "armenia",
         "P"
        ],
        [
         "ARU",
         "Aruba",
         "aruba",
         "P"
        ],
        [
         "ASA",
         "American Samoa",
         "american",
         "P"
        ],
        [
         "AUS",
         "Australia",
         "australia",
         "P"
        ],
        [
         "AUT",
         "Austria",
         "austria",
         "P"
        ],
        [
         "AZE",
         "Azerbaijan",
         "azerbaijan",
         "P"
        ]
       ],
       "datasetInfos": [],
       "dbfsResultPath": null,
       "isJsonSchema": true,
       "metadata": {},
       "overflow": false,
       "plotOptions": {
        "customPlotOptions": {},
        "displayType": "table",
        "pivotAggregation": null,
        "pivotColumns": null,
        "xColumns": null,
        "yColumns": null
       },
       "removedWidgets": [],
       "schema": [
        {
         "metadata": "{}",
         "name": "code",
         "type": "\"string\""
        },
        {
         "metadata": "{}",
         "name": "country_long",
         "type": "\"string\""
        },
        {
         "metadata": "{}",
         "name": "tag",
         "type": "\"string\""
        },
        {
         "metadata": "{}",
         "name": "note",
         "type": "\"string\""
        }
       ],
       "type": "table"
      }
     },
     "output_type": "display_data"
    }
   ],
   "source": [
    "df = df.withColumn('tag', split( col('tag'), '-' )[0])\n",
    "\n",
    "display(df.limit(15))"
   ]
  },
  {
   "cell_type": "code",
   "execution_count": 0,
   "metadata": {
    "application/vnd.databricks.v1+cell": {
     "cellMetadata": {
      "byteLimit": 2048000,
      "rowLimit": 10000
     },
     "inputWidgets": {},
     "nuid": "800bb360-32f1-4ffd-bf2d-3f219e81fda6",
     "showTitle": false,
     "tableResultSettingsMap": {},
     "title": ""
    }
   },
   "outputs": [],
   "source": [
    "df.write.format('delta')\\\n",
    "        .mode('append')\\\n",
    "        .option('path', 'abfss://silver@olympicprojdlchintu.dfs.core.windows.net/nocs')\\\n",
    "        .saveAsTable('olympicolympic.silver.nocs.silver.nocs')"
   ]
  },
  {
   "cell_type": "code",
   "execution_count": 0,
   "metadata": {
    "application/vnd.databricks.v1+cell": {
     "cellMetadata": {
      "byteLimit": 2048000,
      "rowLimit": 10000
     },
     "inputWidgets": {},
     "nuid": "486fe77d-e880-481d-a054-37b7ac0ba26e",
     "showTitle": false,
     "tableResultSettingsMap": {},
     "title": ""
    }
   },
   "outputs": [],
   "source": [
    "df.write.format('delta')\\\n",
    "        .mode('append')\\\n",
    "        .saveAsTable('olympic.silver.nocs_man')"
   ]
  }
 ],
 "metadata": {
  "application/vnd.databricks.v1+notebook": {
   "computePreferences": null,
   "dashboards": [],
   "environmentMetadata": {
    "base_environment": "",
    "environment_version": "2"
   },
   "inputWidgetPreferences": null,
   "language": "python",
   "notebookMetadata": {
    "mostRecentlyExecutedCommandWithImplicitDF": {
     "commandId": -1,
     "dataframes": [
      "_sqldf"
     ]
    },
    "pythonIndentUnit": 4
   },
   "notebookName": "1_Silver_Entity_NOCS",
   "widgets": {}
  },
  "language_info": {
   "name": "python"
  }
 },
 "nbformat": 4,
 "nbformat_minor": 0
}